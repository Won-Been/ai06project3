{
  "nbformat": 4,
  "nbformat_minor": 0,
  "metadata": {
    "colab": {
      "name": "Project3.ipynb",
      "provenance": [],
      "mount_file_id": "1QGdpRRvZV4Dnv8U_zyzfB4pljU7D_y8T",
      "authorship_tag": "ABX9TyN7MtEXZTXkAP+P68IvhH8h",
      "include_colab_link": true
    },
    "kernelspec": {
      "name": "python3",
      "display_name": "Python 3"
    },
    "language_info": {
      "name": "python"
    }
  },
  "cells": [
    {
      "cell_type": "markdown",
      "metadata": {
        "id": "view-in-github",
        "colab_type": "text"
      },
      "source": [
        "<a href=\"https://colab.research.google.com/github/biini/ai06project3/blob/main/Project3.ipynb\" target=\"_parent\"><img src=\"https://colab.research.google.com/assets/colab-badge.svg\" alt=\"Open In Colab\"/></a>"
      ]
    },
    {
      "cell_type": "code",
      "metadata": {
        "id": "xfwDIrfyfBz8",
        "colab": {
          "base_uri": "https://localhost:8080/"
        },
        "outputId": "909b32e3-b112-470e-fdd5-442f4bde682e"
      },
      "source": [
        "pip install category_encoders"
      ],
      "execution_count": null,
      "outputs": [
        {
          "output_type": "stream",
          "name": "stdout",
          "text": [
            "Collecting category_encoders\n",
            "  Downloading category_encoders-2.2.2-py2.py3-none-any.whl (80 kB)\n",
            "\u001b[?25l\r\u001b[K     |████                            | 10 kB 33.0 MB/s eta 0:00:01\r\u001b[K     |████████▏                       | 20 kB 26.5 MB/s eta 0:00:01\r\u001b[K     |████████████▏                   | 30 kB 18.9 MB/s eta 0:00:01\r\u001b[K     |████████████████▎               | 40 kB 16.4 MB/s eta 0:00:01\r\u001b[K     |████████████████████▎           | 51 kB 8.0 MB/s eta 0:00:01\r\u001b[K     |████████████████████████▍       | 61 kB 9.4 MB/s eta 0:00:01\r\u001b[K     |████████████████████████████▍   | 71 kB 9.7 MB/s eta 0:00:01\r\u001b[K     |████████████████████████████████| 80 kB 6.2 MB/s \n",
            "\u001b[?25hRequirement already satisfied: scikit-learn>=0.20.0 in /usr/local/lib/python3.7/dist-packages (from category_encoders) (0.22.2.post1)\n",
            "Requirement already satisfied: patsy>=0.5.1 in /usr/local/lib/python3.7/dist-packages (from category_encoders) (0.5.2)\n",
            "Requirement already satisfied: scipy>=1.0.0 in /usr/local/lib/python3.7/dist-packages (from category_encoders) (1.4.1)\n",
            "Requirement already satisfied: pandas>=0.21.1 in /usr/local/lib/python3.7/dist-packages (from category_encoders) (1.1.5)\n",
            "Requirement already satisfied: statsmodels>=0.9.0 in /usr/local/lib/python3.7/dist-packages (from category_encoders) (0.10.2)\n",
            "Requirement already satisfied: numpy>=1.14.0 in /usr/local/lib/python3.7/dist-packages (from category_encoders) (1.19.5)\n",
            "Requirement already satisfied: pytz>=2017.2 in /usr/local/lib/python3.7/dist-packages (from pandas>=0.21.1->category_encoders) (2018.9)\n",
            "Requirement already satisfied: python-dateutil>=2.7.3 in /usr/local/lib/python3.7/dist-packages (from pandas>=0.21.1->category_encoders) (2.8.2)\n",
            "Requirement already satisfied: six in /usr/local/lib/python3.7/dist-packages (from patsy>=0.5.1->category_encoders) (1.15.0)\n",
            "Requirement already satisfied: joblib>=0.11 in /usr/local/lib/python3.7/dist-packages (from scikit-learn>=0.20.0->category_encoders) (1.0.1)\n",
            "Installing collected packages: category-encoders\n",
            "Successfully installed category-encoders-2.2.2\n"
          ]
        }
      ]
    },
    {
      "cell_type": "code",
      "metadata": {
        "id": "DmwgUlKVKXLV",
        "colab": {
          "base_uri": "https://localhost:8080/"
        },
        "outputId": "5faa4f1b-efaa-4355-bd52-dea1fbd5e864"
      },
      "source": [
        "import pandas as pd\n",
        "import sqlite3\n",
        "from sklearn.model_selection import train_test_split\n",
        "from sklearn.linear_model import LinearRegression\n",
        "from sklearn.metrics import mean_absolute_error\n",
        "from category_encoders import OneHotEncoder\n",
        "import joblib\n",
        "import pickle"
      ],
      "execution_count": null,
      "outputs": [
        {
          "output_type": "stream",
          "name": "stderr",
          "text": [
            "/usr/local/lib/python3.7/dist-packages/statsmodels/tools/_testing.py:19: FutureWarning: pandas.util.testing is deprecated. Use the functions in the public API at pandas.testing instead.\n",
            "  import pandas.util.testing as tm\n"
          ]
        }
      ]
    },
    {
      "cell_type": "code",
      "metadata": {
        "id": "s4Fi4b2DK-ji"
      },
      "source": [
        "path = '/content/drive/MyDrive/Colab Notebooks/Section3/book_data.db'\n",
        "conn = sqlite3.connect(path)\n",
        "cur = conn.cursor()"
      ],
      "execution_count": null,
      "outputs": []
    },
    {
      "cell_type": "code",
      "metadata": {
        "colab": {
          "base_uri": "https://localhost:8080/",
          "height": 419
        },
        "id": "Dn06mX5ZNoeH",
        "outputId": "ff8fe04b-d86e-4986-b7fe-88f1b5d39347"
      },
      "source": [
        "data = pd.read_sql('SELECT * FROM Book', conn)\n",
        "data"
      ],
      "execution_count": null,
      "outputs": [
        {
          "output_type": "execute_result",
          "data": {
            "text/html": [
              "<div>\n",
              "<style scoped>\n",
              "    .dataframe tbody tr th:only-of-type {\n",
              "        vertical-align: middle;\n",
              "    }\n",
              "\n",
              "    .dataframe tbody tr th {\n",
              "        vertical-align: top;\n",
              "    }\n",
              "\n",
              "    .dataframe thead th {\n",
              "        text-align: right;\n",
              "    }\n",
              "</style>\n",
              "<table border=\"1\" class=\"dataframe\">\n",
              "  <thead>\n",
              "    <tr style=\"text-align: right;\">\n",
              "      <th></th>\n",
              "      <th>ranking</th>\n",
              "      <th>item_id</th>\n",
              "      <th>sales_point</th>\n",
              "      <th>rating</th>\n",
              "      <th>genre</th>\n",
              "    </tr>\n",
              "  </thead>\n",
              "  <tbody>\n",
              "    <tr>\n",
              "      <th>0</th>\n",
              "      <td>1</td>\n",
              "      <td>280840739</td>\n",
              "      <td>305,050</td>\n",
              "      <td>9.8</td>\n",
              "      <td>만화</td>\n",
              "    </tr>\n",
              "    <tr>\n",
              "      <th>1</th>\n",
              "      <td>2</td>\n",
              "      <td>280598932</td>\n",
              "      <td>96,220</td>\n",
              "      <td>10.0</td>\n",
              "      <td>만화</td>\n",
              "    </tr>\n",
              "    <tr>\n",
              "      <th>2</th>\n",
              "      <td>3</td>\n",
              "      <td>278770576</td>\n",
              "      <td>200,510</td>\n",
              "      <td>8.9</td>\n",
              "      <td>소설/시/희곡</td>\n",
              "    </tr>\n",
              "    <tr>\n",
              "      <th>3</th>\n",
              "      <td>4</td>\n",
              "      <td>280637907</td>\n",
              "      <td>49,310</td>\n",
              "      <td>7.7</td>\n",
              "      <td>만화</td>\n",
              "    </tr>\n",
              "    <tr>\n",
              "      <th>4</th>\n",
              "      <td>5</td>\n",
              "      <td>279711074</td>\n",
              "      <td>90,100</td>\n",
              "      <td>7.8</td>\n",
              "      <td>경제경영</td>\n",
              "    </tr>\n",
              "    <tr>\n",
              "      <th>...</th>\n",
              "      <td>...</td>\n",
              "      <td>...</td>\n",
              "      <td>...</td>\n",
              "      <td>...</td>\n",
              "      <td>...</td>\n",
              "    </tr>\n",
              "    <tr>\n",
              "      <th>193</th>\n",
              "      <td>194</td>\n",
              "      <td>279815126</td>\n",
              "      <td>8,780</td>\n",
              "      <td>9.8</td>\n",
              "      <td>자기계발</td>\n",
              "    </tr>\n",
              "    <tr>\n",
              "      <th>194</th>\n",
              "      <td>195</td>\n",
              "      <td>277669618</td>\n",
              "      <td>8,520</td>\n",
              "      <td>10.0</td>\n",
              "      <td>수험서/자격증</td>\n",
              "    </tr>\n",
              "    <tr>\n",
              "      <th>195</th>\n",
              "      <td>196</td>\n",
              "      <td>280421937</td>\n",
              "      <td>5,080</td>\n",
              "      <td>0.0</td>\n",
              "      <td>경제경영</td>\n",
              "    </tr>\n",
              "    <tr>\n",
              "      <th>196</th>\n",
              "      <td>197</td>\n",
              "      <td>7165205</td>\n",
              "      <td>104,111</td>\n",
              "      <td>9.8</td>\n",
              "      <td>어린이</td>\n",
              "    </tr>\n",
              "    <tr>\n",
              "      <th>197</th>\n",
              "      <td>198</td>\n",
              "      <td>274773138</td>\n",
              "      <td>73,249</td>\n",
              "      <td>9.1</td>\n",
              "      <td>에세이</td>\n",
              "    </tr>\n",
              "  </tbody>\n",
              "</table>\n",
              "<p>198 rows × 5 columns</p>\n",
              "</div>"
            ],
            "text/plain": [
              "     ranking    item_id sales_point  rating    genre\n",
              "0          1  280840739     305,050     9.8       만화\n",
              "1          2  280598932      96,220    10.0       만화\n",
              "2          3  278770576     200,510     8.9  소설/시/희곡\n",
              "3          4  280637907      49,310     7.7       만화\n",
              "4          5  279711074      90,100     7.8     경제경영\n",
              "..       ...        ...         ...     ...      ...\n",
              "193      194  279815126       8,780     9.8     자기계발\n",
              "194      195  277669618       8,520    10.0  수험서/자격증\n",
              "195      196  280421937       5,080     0.0     경제경영\n",
              "196      197    7165205     104,111     9.8      어린이\n",
              "197      198  274773138      73,249     9.1      에세이\n",
              "\n",
              "[198 rows x 5 columns]"
            ]
          },
          "metadata": {},
          "execution_count": 4
        }
      ]
    },
    {
      "cell_type": "code",
      "metadata": {
        "colab": {
          "base_uri": "https://localhost:8080/",
          "height": 419
        },
        "id": "3mrWNs79bw-7",
        "outputId": "482c20e6-8bd7-46cc-a9b0-22c767ea2278"
      },
      "source": [
        "data['sales_point'] = pd.to_numeric(data['sales_point'].str.replace(',',''))\n",
        "\n",
        "data"
      ],
      "execution_count": null,
      "outputs": [
        {
          "output_type": "execute_result",
          "data": {
            "text/html": [
              "<div>\n",
              "<style scoped>\n",
              "    .dataframe tbody tr th:only-of-type {\n",
              "        vertical-align: middle;\n",
              "    }\n",
              "\n",
              "    .dataframe tbody tr th {\n",
              "        vertical-align: top;\n",
              "    }\n",
              "\n",
              "    .dataframe thead th {\n",
              "        text-align: right;\n",
              "    }\n",
              "</style>\n",
              "<table border=\"1\" class=\"dataframe\">\n",
              "  <thead>\n",
              "    <tr style=\"text-align: right;\">\n",
              "      <th></th>\n",
              "      <th>ranking</th>\n",
              "      <th>item_id</th>\n",
              "      <th>sales_point</th>\n",
              "      <th>rating</th>\n",
              "      <th>genre</th>\n",
              "    </tr>\n",
              "  </thead>\n",
              "  <tbody>\n",
              "    <tr>\n",
              "      <th>0</th>\n",
              "      <td>1</td>\n",
              "      <td>280840739</td>\n",
              "      <td>305050</td>\n",
              "      <td>9.8</td>\n",
              "      <td>만화</td>\n",
              "    </tr>\n",
              "    <tr>\n",
              "      <th>1</th>\n",
              "      <td>2</td>\n",
              "      <td>280598932</td>\n",
              "      <td>96220</td>\n",
              "      <td>10.0</td>\n",
              "      <td>만화</td>\n",
              "    </tr>\n",
              "    <tr>\n",
              "      <th>2</th>\n",
              "      <td>3</td>\n",
              "      <td>278770576</td>\n",
              "      <td>200510</td>\n",
              "      <td>8.9</td>\n",
              "      <td>소설/시/희곡</td>\n",
              "    </tr>\n",
              "    <tr>\n",
              "      <th>3</th>\n",
              "      <td>4</td>\n",
              "      <td>280637907</td>\n",
              "      <td>49310</td>\n",
              "      <td>7.7</td>\n",
              "      <td>만화</td>\n",
              "    </tr>\n",
              "    <tr>\n",
              "      <th>4</th>\n",
              "      <td>5</td>\n",
              "      <td>279711074</td>\n",
              "      <td>90100</td>\n",
              "      <td>7.8</td>\n",
              "      <td>경제경영</td>\n",
              "    </tr>\n",
              "    <tr>\n",
              "      <th>...</th>\n",
              "      <td>...</td>\n",
              "      <td>...</td>\n",
              "      <td>...</td>\n",
              "      <td>...</td>\n",
              "      <td>...</td>\n",
              "    </tr>\n",
              "    <tr>\n",
              "      <th>193</th>\n",
              "      <td>194</td>\n",
              "      <td>279815126</td>\n",
              "      <td>8780</td>\n",
              "      <td>9.8</td>\n",
              "      <td>자기계발</td>\n",
              "    </tr>\n",
              "    <tr>\n",
              "      <th>194</th>\n",
              "      <td>195</td>\n",
              "      <td>277669618</td>\n",
              "      <td>8520</td>\n",
              "      <td>10.0</td>\n",
              "      <td>수험서/자격증</td>\n",
              "    </tr>\n",
              "    <tr>\n",
              "      <th>195</th>\n",
              "      <td>196</td>\n",
              "      <td>280421937</td>\n",
              "      <td>5080</td>\n",
              "      <td>0.0</td>\n",
              "      <td>경제경영</td>\n",
              "    </tr>\n",
              "    <tr>\n",
              "      <th>196</th>\n",
              "      <td>197</td>\n",
              "      <td>7165205</td>\n",
              "      <td>104111</td>\n",
              "      <td>9.8</td>\n",
              "      <td>어린이</td>\n",
              "    </tr>\n",
              "    <tr>\n",
              "      <th>197</th>\n",
              "      <td>198</td>\n",
              "      <td>274773138</td>\n",
              "      <td>73249</td>\n",
              "      <td>9.1</td>\n",
              "      <td>에세이</td>\n",
              "    </tr>\n",
              "  </tbody>\n",
              "</table>\n",
              "<p>198 rows × 5 columns</p>\n",
              "</div>"
            ],
            "text/plain": [
              "     ranking    item_id  sales_point  rating    genre\n",
              "0          1  280840739       305050     9.8       만화\n",
              "1          2  280598932        96220    10.0       만화\n",
              "2          3  278770576       200510     8.9  소설/시/희곡\n",
              "3          4  280637907        49310     7.7       만화\n",
              "4          5  279711074        90100     7.8     경제경영\n",
              "..       ...        ...          ...     ...      ...\n",
              "193      194  279815126         8780     9.8     자기계발\n",
              "194      195  277669618         8520    10.0  수험서/자격증\n",
              "195      196  280421937         5080     0.0     경제경영\n",
              "196      197    7165205       104111     9.8      어린이\n",
              "197      198  274773138        73249     9.1      에세이\n",
              "\n",
              "[198 rows x 5 columns]"
            ]
          },
          "metadata": {},
          "execution_count": 5
        }
      ]
    },
    {
      "cell_type": "code",
      "metadata": {
        "colab": {
          "base_uri": "https://localhost:8080/",
          "height": 419
        },
        "id": "arlLOtktQ1pS",
        "outputId": "5d10b865-8546-4403-dc74-b36da39b0053"
      },
      "source": [
        "data.drop('item_id', axis=1, inplace=True)\n",
        "data"
      ],
      "execution_count": null,
      "outputs": [
        {
          "output_type": "execute_result",
          "data": {
            "text/html": [
              "<div>\n",
              "<style scoped>\n",
              "    .dataframe tbody tr th:only-of-type {\n",
              "        vertical-align: middle;\n",
              "    }\n",
              "\n",
              "    .dataframe tbody tr th {\n",
              "        vertical-align: top;\n",
              "    }\n",
              "\n",
              "    .dataframe thead th {\n",
              "        text-align: right;\n",
              "    }\n",
              "</style>\n",
              "<table border=\"1\" class=\"dataframe\">\n",
              "  <thead>\n",
              "    <tr style=\"text-align: right;\">\n",
              "      <th></th>\n",
              "      <th>ranking</th>\n",
              "      <th>sales_point</th>\n",
              "      <th>rating</th>\n",
              "      <th>genre</th>\n",
              "    </tr>\n",
              "  </thead>\n",
              "  <tbody>\n",
              "    <tr>\n",
              "      <th>0</th>\n",
              "      <td>1</td>\n",
              "      <td>305050</td>\n",
              "      <td>9.8</td>\n",
              "      <td>만화</td>\n",
              "    </tr>\n",
              "    <tr>\n",
              "      <th>1</th>\n",
              "      <td>2</td>\n",
              "      <td>96220</td>\n",
              "      <td>10.0</td>\n",
              "      <td>만화</td>\n",
              "    </tr>\n",
              "    <tr>\n",
              "      <th>2</th>\n",
              "      <td>3</td>\n",
              "      <td>200510</td>\n",
              "      <td>8.9</td>\n",
              "      <td>소설/시/희곡</td>\n",
              "    </tr>\n",
              "    <tr>\n",
              "      <th>3</th>\n",
              "      <td>4</td>\n",
              "      <td>49310</td>\n",
              "      <td>7.7</td>\n",
              "      <td>만화</td>\n",
              "    </tr>\n",
              "    <tr>\n",
              "      <th>4</th>\n",
              "      <td>5</td>\n",
              "      <td>90100</td>\n",
              "      <td>7.8</td>\n",
              "      <td>경제경영</td>\n",
              "    </tr>\n",
              "    <tr>\n",
              "      <th>...</th>\n",
              "      <td>...</td>\n",
              "      <td>...</td>\n",
              "      <td>...</td>\n",
              "      <td>...</td>\n",
              "    </tr>\n",
              "    <tr>\n",
              "      <th>193</th>\n",
              "      <td>194</td>\n",
              "      <td>8780</td>\n",
              "      <td>9.8</td>\n",
              "      <td>자기계발</td>\n",
              "    </tr>\n",
              "    <tr>\n",
              "      <th>194</th>\n",
              "      <td>195</td>\n",
              "      <td>8520</td>\n",
              "      <td>10.0</td>\n",
              "      <td>수험서/자격증</td>\n",
              "    </tr>\n",
              "    <tr>\n",
              "      <th>195</th>\n",
              "      <td>196</td>\n",
              "      <td>5080</td>\n",
              "      <td>0.0</td>\n",
              "      <td>경제경영</td>\n",
              "    </tr>\n",
              "    <tr>\n",
              "      <th>196</th>\n",
              "      <td>197</td>\n",
              "      <td>104111</td>\n",
              "      <td>9.8</td>\n",
              "      <td>어린이</td>\n",
              "    </tr>\n",
              "    <tr>\n",
              "      <th>197</th>\n",
              "      <td>198</td>\n",
              "      <td>73249</td>\n",
              "      <td>9.1</td>\n",
              "      <td>에세이</td>\n",
              "    </tr>\n",
              "  </tbody>\n",
              "</table>\n",
              "<p>198 rows × 4 columns</p>\n",
              "</div>"
            ],
            "text/plain": [
              "     ranking  sales_point  rating    genre\n",
              "0          1       305050     9.8       만화\n",
              "1          2        96220    10.0       만화\n",
              "2          3       200510     8.9  소설/시/희곡\n",
              "3          4        49310     7.7       만화\n",
              "4          5        90100     7.8     경제경영\n",
              "..       ...          ...     ...      ...\n",
              "193      194         8780     9.8     자기계발\n",
              "194      195         8520    10.0  수험서/자격증\n",
              "195      196         5080     0.0     경제경영\n",
              "196      197       104111     9.8      어린이\n",
              "197      198        73249     9.1      에세이\n",
              "\n",
              "[198 rows x 4 columns]"
            ]
          },
          "metadata": {},
          "execution_count": 6
        }
      ]
    },
    {
      "cell_type": "code",
      "metadata": {
        "colab": {
          "base_uri": "https://localhost:8080/"
        },
        "id": "63B68InKx3sC",
        "outputId": "1203ec0d-6b20-4f07-d851-720269c4b160"
      },
      "source": [
        "encoder = OneHotEncoder(use_cat_names=True)\n",
        "data_encoded = encoder.fit_transform(data)"
      ],
      "execution_count": null,
      "outputs": [
        {
          "output_type": "stream",
          "name": "stderr",
          "text": [
            "/usr/local/lib/python3.7/dist-packages/category_encoders/utils.py:21: FutureWarning: is_categorical is deprecated and will be removed in a future version.  Use is_categorical_dtype instead\n",
            "  elif pd.api.types.is_categorical(cols):\n"
          ]
        }
      ]
    },
    {
      "cell_type": "code",
      "metadata": {
        "colab": {
          "base_uri": "https://localhost:8080/",
          "height": 436
        },
        "id": "o4qsC3A8yEoT",
        "outputId": "9c3e27c9-ba31-4bcb-d722-fb77dfea73bb"
      },
      "source": [
        "data_encoded"
      ],
      "execution_count": null,
      "outputs": [
        {
          "output_type": "execute_result",
          "data": {
            "text/html": [
              "<div>\n",
              "<style scoped>\n",
              "    .dataframe tbody tr th:only-of-type {\n",
              "        vertical-align: middle;\n",
              "    }\n",
              "\n",
              "    .dataframe tbody tr th {\n",
              "        vertical-align: top;\n",
              "    }\n",
              "\n",
              "    .dataframe thead th {\n",
              "        text-align: right;\n",
              "    }\n",
              "</style>\n",
              "<table border=\"1\" class=\"dataframe\">\n",
              "  <thead>\n",
              "    <tr style=\"text-align: right;\">\n",
              "      <th></th>\n",
              "      <th>ranking</th>\n",
              "      <th>sales_point</th>\n",
              "      <th>rating</th>\n",
              "      <th>genre_만화</th>\n",
              "      <th>genre_소설/시/희곡</th>\n",
              "      <th>genre_경제경영</th>\n",
              "      <th>genre_어린이</th>\n",
              "      <th>genre_건강/취미/레저</th>\n",
              "      <th>genre_에세이</th>\n",
              "      <th>genre_과학</th>\n",
              "      <th>genre_유아</th>\n",
              "      <th>genre_예술/대중문화</th>\n",
              "      <th>genre_인문학</th>\n",
              "      <th>genre_수험서/자격증</th>\n",
              "      <th>genre_좋은부모</th>\n",
              "      <th>genre_자기계발</th>\n",
              "      <th>genre_외국어</th>\n",
              "      <th>genre_사회과학</th>\n",
              "      <th>genre_청소년</th>\n",
              "      <th>genre_가정/요리/뷰티</th>\n",
              "      <th>genre_컴퓨터/모바일</th>\n",
              "    </tr>\n",
              "  </thead>\n",
              "  <tbody>\n",
              "    <tr>\n",
              "      <th>0</th>\n",
              "      <td>1</td>\n",
              "      <td>305050</td>\n",
              "      <td>9.8</td>\n",
              "      <td>1</td>\n",
              "      <td>0</td>\n",
              "      <td>0</td>\n",
              "      <td>0</td>\n",
              "      <td>0</td>\n",
              "      <td>0</td>\n",
              "      <td>0</td>\n",
              "      <td>0</td>\n",
              "      <td>0</td>\n",
              "      <td>0</td>\n",
              "      <td>0</td>\n",
              "      <td>0</td>\n",
              "      <td>0</td>\n",
              "      <td>0</td>\n",
              "      <td>0</td>\n",
              "      <td>0</td>\n",
              "      <td>0</td>\n",
              "      <td>0</td>\n",
              "    </tr>\n",
              "    <tr>\n",
              "      <th>1</th>\n",
              "      <td>2</td>\n",
              "      <td>96220</td>\n",
              "      <td>10.0</td>\n",
              "      <td>1</td>\n",
              "      <td>0</td>\n",
              "      <td>0</td>\n",
              "      <td>0</td>\n",
              "      <td>0</td>\n",
              "      <td>0</td>\n",
              "      <td>0</td>\n",
              "      <td>0</td>\n",
              "      <td>0</td>\n",
              "      <td>0</td>\n",
              "      <td>0</td>\n",
              "      <td>0</td>\n",
              "      <td>0</td>\n",
              "      <td>0</td>\n",
              "      <td>0</td>\n",
              "      <td>0</td>\n",
              "      <td>0</td>\n",
              "      <td>0</td>\n",
              "    </tr>\n",
              "    <tr>\n",
              "      <th>2</th>\n",
              "      <td>3</td>\n",
              "      <td>200510</td>\n",
              "      <td>8.9</td>\n",
              "      <td>0</td>\n",
              "      <td>1</td>\n",
              "      <td>0</td>\n",
              "      <td>0</td>\n",
              "      <td>0</td>\n",
              "      <td>0</td>\n",
              "      <td>0</td>\n",
              "      <td>0</td>\n",
              "      <td>0</td>\n",
              "      <td>0</td>\n",
              "      <td>0</td>\n",
              "      <td>0</td>\n",
              "      <td>0</td>\n",
              "      <td>0</td>\n",
              "      <td>0</td>\n",
              "      <td>0</td>\n",
              "      <td>0</td>\n",
              "      <td>0</td>\n",
              "    </tr>\n",
              "    <tr>\n",
              "      <th>3</th>\n",
              "      <td>4</td>\n",
              "      <td>49310</td>\n",
              "      <td>7.7</td>\n",
              "      <td>1</td>\n",
              "      <td>0</td>\n",
              "      <td>0</td>\n",
              "      <td>0</td>\n",
              "      <td>0</td>\n",
              "      <td>0</td>\n",
              "      <td>0</td>\n",
              "      <td>0</td>\n",
              "      <td>0</td>\n",
              "      <td>0</td>\n",
              "      <td>0</td>\n",
              "      <td>0</td>\n",
              "      <td>0</td>\n",
              "      <td>0</td>\n",
              "      <td>0</td>\n",
              "      <td>0</td>\n",
              "      <td>0</td>\n",
              "      <td>0</td>\n",
              "    </tr>\n",
              "    <tr>\n",
              "      <th>4</th>\n",
              "      <td>5</td>\n",
              "      <td>90100</td>\n",
              "      <td>7.8</td>\n",
              "      <td>0</td>\n",
              "      <td>0</td>\n",
              "      <td>1</td>\n",
              "      <td>0</td>\n",
              "      <td>0</td>\n",
              "      <td>0</td>\n",
              "      <td>0</td>\n",
              "      <td>0</td>\n",
              "      <td>0</td>\n",
              "      <td>0</td>\n",
              "      <td>0</td>\n",
              "      <td>0</td>\n",
              "      <td>0</td>\n",
              "      <td>0</td>\n",
              "      <td>0</td>\n",
              "      <td>0</td>\n",
              "      <td>0</td>\n",
              "      <td>0</td>\n",
              "    </tr>\n",
              "    <tr>\n",
              "      <th>...</th>\n",
              "      <td>...</td>\n",
              "      <td>...</td>\n",
              "      <td>...</td>\n",
              "      <td>...</td>\n",
              "      <td>...</td>\n",
              "      <td>...</td>\n",
              "      <td>...</td>\n",
              "      <td>...</td>\n",
              "      <td>...</td>\n",
              "      <td>...</td>\n",
              "      <td>...</td>\n",
              "      <td>...</td>\n",
              "      <td>...</td>\n",
              "      <td>...</td>\n",
              "      <td>...</td>\n",
              "      <td>...</td>\n",
              "      <td>...</td>\n",
              "      <td>...</td>\n",
              "      <td>...</td>\n",
              "      <td>...</td>\n",
              "      <td>...</td>\n",
              "    </tr>\n",
              "    <tr>\n",
              "      <th>193</th>\n",
              "      <td>194</td>\n",
              "      <td>8780</td>\n",
              "      <td>9.8</td>\n",
              "      <td>0</td>\n",
              "      <td>0</td>\n",
              "      <td>0</td>\n",
              "      <td>0</td>\n",
              "      <td>0</td>\n",
              "      <td>0</td>\n",
              "      <td>0</td>\n",
              "      <td>0</td>\n",
              "      <td>0</td>\n",
              "      <td>0</td>\n",
              "      <td>0</td>\n",
              "      <td>0</td>\n",
              "      <td>1</td>\n",
              "      <td>0</td>\n",
              "      <td>0</td>\n",
              "      <td>0</td>\n",
              "      <td>0</td>\n",
              "      <td>0</td>\n",
              "    </tr>\n",
              "    <tr>\n",
              "      <th>194</th>\n",
              "      <td>195</td>\n",
              "      <td>8520</td>\n",
              "      <td>10.0</td>\n",
              "      <td>0</td>\n",
              "      <td>0</td>\n",
              "      <td>0</td>\n",
              "      <td>0</td>\n",
              "      <td>0</td>\n",
              "      <td>0</td>\n",
              "      <td>0</td>\n",
              "      <td>0</td>\n",
              "      <td>0</td>\n",
              "      <td>0</td>\n",
              "      <td>1</td>\n",
              "      <td>0</td>\n",
              "      <td>0</td>\n",
              "      <td>0</td>\n",
              "      <td>0</td>\n",
              "      <td>0</td>\n",
              "      <td>0</td>\n",
              "      <td>0</td>\n",
              "    </tr>\n",
              "    <tr>\n",
              "      <th>195</th>\n",
              "      <td>196</td>\n",
              "      <td>5080</td>\n",
              "      <td>0.0</td>\n",
              "      <td>0</td>\n",
              "      <td>0</td>\n",
              "      <td>1</td>\n",
              "      <td>0</td>\n",
              "      <td>0</td>\n",
              "      <td>0</td>\n",
              "      <td>0</td>\n",
              "      <td>0</td>\n",
              "      <td>0</td>\n",
              "      <td>0</td>\n",
              "      <td>0</td>\n",
              "      <td>0</td>\n",
              "      <td>0</td>\n",
              "      <td>0</td>\n",
              "      <td>0</td>\n",
              "      <td>0</td>\n",
              "      <td>0</td>\n",
              "      <td>0</td>\n",
              "    </tr>\n",
              "    <tr>\n",
              "      <th>196</th>\n",
              "      <td>197</td>\n",
              "      <td>104111</td>\n",
              "      <td>9.8</td>\n",
              "      <td>0</td>\n",
              "      <td>0</td>\n",
              "      <td>0</td>\n",
              "      <td>1</td>\n",
              "      <td>0</td>\n",
              "      <td>0</td>\n",
              "      <td>0</td>\n",
              "      <td>0</td>\n",
              "      <td>0</td>\n",
              "      <td>0</td>\n",
              "      <td>0</td>\n",
              "      <td>0</td>\n",
              "      <td>0</td>\n",
              "      <td>0</td>\n",
              "      <td>0</td>\n",
              "      <td>0</td>\n",
              "      <td>0</td>\n",
              "      <td>0</td>\n",
              "    </tr>\n",
              "    <tr>\n",
              "      <th>197</th>\n",
              "      <td>198</td>\n",
              "      <td>73249</td>\n",
              "      <td>9.1</td>\n",
              "      <td>0</td>\n",
              "      <td>0</td>\n",
              "      <td>0</td>\n",
              "      <td>0</td>\n",
              "      <td>0</td>\n",
              "      <td>1</td>\n",
              "      <td>0</td>\n",
              "      <td>0</td>\n",
              "      <td>0</td>\n",
              "      <td>0</td>\n",
              "      <td>0</td>\n",
              "      <td>0</td>\n",
              "      <td>0</td>\n",
              "      <td>0</td>\n",
              "      <td>0</td>\n",
              "      <td>0</td>\n",
              "      <td>0</td>\n",
              "      <td>0</td>\n",
              "    </tr>\n",
              "  </tbody>\n",
              "</table>\n",
              "<p>198 rows × 21 columns</p>\n",
              "</div>"
            ],
            "text/plain": [
              "     ranking  sales_point  rating  ...  genre_청소년  genre_가정/요리/뷰티  genre_컴퓨터/모바일\n",
              "0          1       305050     9.8  ...          0               0              0\n",
              "1          2        96220    10.0  ...          0               0              0\n",
              "2          3       200510     8.9  ...          0               0              0\n",
              "3          4        49310     7.7  ...          0               0              0\n",
              "4          5        90100     7.8  ...          0               0              0\n",
              "..       ...          ...     ...  ...        ...             ...            ...\n",
              "193      194         8780     9.8  ...          0               0              0\n",
              "194      195         8520    10.0  ...          0               0              0\n",
              "195      196         5080     0.0  ...          0               0              0\n",
              "196      197       104111     9.8  ...          0               0              0\n",
              "197      198        73249     9.1  ...          0               0              0\n",
              "\n",
              "[198 rows x 21 columns]"
            ]
          },
          "metadata": {},
          "execution_count": 8
        }
      ]
    },
    {
      "cell_type": "code",
      "metadata": {
        "id": "vWiHmrJfXZNz"
      },
      "source": [
        "#타겟, 특성 지정\n",
        "target = data_encoded['sales_point']\n",
        "features = data_encoded.drop('sales_point', axis=1)\n",
        "\n",
        "#train data와 test data로 나누기\n",
        "X_train, X_test, y_train, y_test = train_test_split(features, target, test_size = 0.2, random_state = 3)"
      ],
      "execution_count": null,
      "outputs": []
    },
    {
      "cell_type": "code",
      "metadata": {
        "colab": {
          "base_uri": "https://localhost:8080/"
        },
        "id": "gJoslNsKYnk4",
        "outputId": "64281ffe-8baa-40e7-bf42-dad96f052f86"
      },
      "source": [
        "#각 데이터의 길이\n",
        "len(X_train), len(X_test)"
      ],
      "execution_count": null,
      "outputs": [
        {
          "output_type": "execute_result",
          "data": {
            "text/plain": [
              "(158, 40)"
            ]
          },
          "metadata": {},
          "execution_count": 10
        }
      ]
    },
    {
      "cell_type": "code",
      "metadata": {
        "colab": {
          "base_uri": "https://localhost:8080/"
        },
        "id": "X6CSQOO4iQ7d",
        "outputId": "6544c3b4-e1a1-4217-bd92-152a3e4bd4e5"
      },
      "source": [
        "len(X_train.columns)"
      ],
      "execution_count": null,
      "outputs": [
        {
          "output_type": "execute_result",
          "data": {
            "text/plain": [
              "20"
            ]
          },
          "metadata": {},
          "execution_count": 11
        }
      ]
    },
    {
      "cell_type": "code",
      "metadata": {
        "colab": {
          "base_uri": "https://localhost:8080/"
        },
        "id": "a4KYD621i53p",
        "outputId": "4f6a4a82-656d-41b7-b0e1-aca8c68817af"
      },
      "source": [
        "len(X_test.columns)"
      ],
      "execution_count": null,
      "outputs": [
        {
          "output_type": "execute_result",
          "data": {
            "text/plain": [
              "20"
            ]
          },
          "metadata": {},
          "execution_count": 12
        }
      ]
    },
    {
      "cell_type": "code",
      "metadata": {
        "id": "6fIe6LWTaj9F"
      },
      "source": [
        "#선형회귀모델\n",
        "model = LinearRegression()\n",
        "\n",
        "#모델 fit\n",
        "model.fit(X_train, y_train)\n",
        "y_pred = model.predict(X_train)\n",
        "\n",
        "#테스트 데이터에 적용\n",
        "y_pred = model.predict(X_test)\n"
      ],
      "execution_count": null,
      "outputs": []
    },
    {
      "cell_type": "code",
      "metadata": {
        "colab": {
          "base_uri": "https://localhost:8080/"
        },
        "id": "TYyRQEjOlZEC",
        "outputId": "b868a717-149c-47a8-c174-fe11869ea054"
      },
      "source": [
        "model.predict([[2,9.3,1,0,0,0,0,0,0,0,0,0,0,0,0,0,0,0,0,0]])"
      ],
      "execution_count": null,
      "outputs": [
        {
          "output_type": "execute_result",
          "data": {
            "text/plain": [
              "array([82868.51092994])"
            ]
          },
          "metadata": {},
          "execution_count": 14
        }
      ]
    },
    {
      "cell_type": "code",
      "metadata": {
        "colab": {
          "base_uri": "https://localhost:8080/"
        },
        "id": "cntxBicXmjs-",
        "outputId": "df493b7b-86cc-4f8b-905c-37fa6fc340c1"
      },
      "source": [
        "X_test.columns"
      ],
      "execution_count": null,
      "outputs": [
        {
          "output_type": "execute_result",
          "data": {
            "text/plain": [
              "Index(['ranking', 'rating', 'genre_만화', 'genre_소설/시/희곡', 'genre_경제경영',\n",
              "       'genre_어린이', 'genre_건강/취미/레저', 'genre_에세이', 'genre_과학', 'genre_유아',\n",
              "       'genre_예술/대중문화', 'genre_인문학', 'genre_수험서/자격증', 'genre_좋은부모',\n",
              "       'genre_자기계발', 'genre_외국어', 'genre_사회과학', 'genre_청소년', 'genre_가정/요리/뷰티',\n",
              "       'genre_컴퓨터/모바일'],\n",
              "      dtype='object')"
            ]
          },
          "metadata": {},
          "execution_count": 15
        }
      ]
    },
    {
      "cell_type": "code",
      "metadata": {
        "id": "YWgKPpRboQaY"
      },
      "source": [
        "#모델 저장\n",
        "with open('point_predict.pickle','wb') as file:\n",
        "  pickle.dump(model, file)"
      ],
      "execution_count": null,
      "outputs": []
    },
    {
      "cell_type": "code",
      "metadata": {
        "id": "puCVXYs0UOUi"
      },
      "source": [
        "\n",
        "model1 = pickle.load(open('point_predict.pickle','rb'))"
      ],
      "execution_count": null,
      "outputs": []
    },
    {
      "cell_type": "code",
      "metadata": {
        "id": "mixH01iiWRAO",
        "colab": {
          "base_uri": "https://localhost:8080/"
        },
        "outputId": "78e03d9a-bde4-46a2-e7ca-3ac6685df702"
      },
      "source": [
        "prediction = model1.predict([[2,9.3,1,0,0,0,0,0,0,0,0,0,0,0,0,0,0,0,0,0]])\n",
        "prediction"
      ],
      "execution_count": null,
      "outputs": [
        {
          "output_type": "execute_result",
          "data": {
            "text/plain": [
              "array([82868.51092994])"
            ]
          },
          "metadata": {},
          "execution_count": 19
        }
      ]
    }
  ]
}